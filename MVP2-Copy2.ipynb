{
 "cells": [
  {
   "cell_type": "markdown",
   "id": "48a57132-be21-45a5-9eb2-580eeabc7bbf",
   "metadata": {},
   "source": [
    "CHECKPOINT 2"
   ]
  },
  {
   "cell_type": "code",
   "execution_count": 1,
   "id": "3e38f928-765f-4593-a35f-dcc142c31ad2",
   "metadata": {},
   "outputs": [],
   "source": [
    "import numpy as np\n",
    "import random\n",
    "import matplotlib.pyplot as plt\n",
    "import matplotlib.animation as animation\n",
    "import matplotlib.colors as colour\n",
    "cmap = colour.ListedColormap([\"darkorange\", \"gold\", \"lawngreen\", \"lightseagreen\"])\n",
    "%matplotlib tk"
   ]
  },
  {
   "cell_type": "code",
   "execution_count": null,
   "id": "52ebb5a2-7de5-48ef-82e0-e541a9f356fb",
   "metadata": {},
   "outputs": [],
   "source": [
    "N = 20\n",
    "#x = np.random.choice([0,1], N*N, p=[0.2, 0.8]).reshape(N, N)\n",
    "x = np.zeros((N,N))\n",
    "glider = np.array([[0,    0, 1],\n",
    "                       [1,  0, 1],\n",
    "                       [0,  1, 1]])\n",
    "index = [10,9]\n",
    "x[index[0]:(index[0]+3)%N, index[1]:(index[1]+3)%N] = glider\n",
    "indices=[(index[0],index[1]+2), x[index[0]+1][index[1]], x[index[0]+1][index[1]+2], x[index[0]+2][index[1]+1], x[index[0]+2][index[1]+2] ]\n",
    "plt.cla\n",
    "im = plt.imshow(x)\n",
    "plt.draw\n",
    "print(indices)"
   ]
  },
  {
   "cell_type": "code",
   "execution_count": null,
   "id": "10e8dc4d-a6da-4a29-b730-70b0056c2429",
   "metadata": {},
   "outputs": [],
   "source": [
    "def update(grid)\n",
    "    for i in "
   ]
  },
  {
   "cell_type": "code",
   "execution_count": null,
   "id": "515f72bb-8c8f-4b54-8c1e-e2c3d7fadd4a",
   "metadata": {},
   "outputs": [],
   "source": [
    "class Game_of_Life():\n",
    "    def __init__(self, N):\n",
    "        self.N = N \n",
    "        self.grid = np.random.randint(2, size = (N,N))\n",
    "        \n",
    "    def update(self):\n",
    "        new = self.grid.copy()\n",
    "        #print(new)\n",
    "        for i in range(self.N):\n",
    "            for j in range(self.N):\n",
    "                summed = int(self.grid[i, (j-1)%self.N] + self.grid[i, (j+1)%self.N] +\n",
    "                         self.grid[(i-1)%self.N, j] + self.grid[(i+1)%self.N, j] +\n",
    "                         self.grid[(i-1)%self.N, (j-1)%self.N] + self.grid[(i-1)%self.N, (j+1)%self.N] +\n",
    "                         self.grid[(i+1)%self.N, (j-1)%self.N] + self.grid[(i+1)%self.N, (j+1)%self.N])\n",
    "                if self.grid[i,j] == 1:\n",
    "                    if (summed < 2) or (summed > 3):\n",
    "                        new[i,j] = 0\n",
    "                else:\n",
    "                    if summed == 3:\n",
    "                        new[i,j] = 1\n",
    "        self.grid = new\n",
    "        return self.grid\n",
    "    \n",
    "    def glider(self, index):\n",
    "        \n",
    "        glider = np.array([[0,    0, 1],\n",
    "                       [1,  0, 1],\n",
    "                       [0,  1, 1]])\n",
    "        self.grid[index[0]:(index[0]+3)%self.N, index[1]:(index[1]+3)%self.N] = glider\n",
    "        #indices = self.grid[index\n",
    "        \n",
    "    def comglider(self, index):\n",
    "        x = np.argwhere(self.grid[index[0]:(index[0]+3)%self.N, index[1]:(index[1]+3)%self.N] == 1)\n",
    "        indx = []\n",
    "        indy = []\n",
    "        #for i in x:\n",
    "            \n",
    "        #com = np.sum((np.array(indices))/len(indices))\n",
    "        \n",
    "        return x, y\n",
    "    def oscillator(self, index):\n",
    "        \n",
    "        oscillator = np.array([[0,1,0],[0,1,0],[0,1,0]])\n",
    "        self.grid[index[0]:(index[0]+3)%self.N, index[1]:(index[1]+3)%self.N] = oscillator\n",
    "        \n",
    "    \n",
    "        \n",
    "    def updatesystem(self, nsteps=10000):\n",
    "        sett = 0\n",
    "        temp = 0\n",
    "        while sett == 0:\n",
    "            for i in range(nsteps):\n",
    "                #if i%1000==0:\n",
    "                    #print(i)\n",
    "                #temp = np.count_nonzero(self.grid)\n",
    "                self.update()\n",
    "                if i%10==0 and i%20 != 0:\n",
    "                    temp = np.count_nonzero(self.grid)\n",
    "                if i%20==0:\n",
    "                    temp2 = np.count_nonzero(self.grid)\n",
    "                #print(temp,temp2)\n",
    "                #plt.cla\n",
    "            #im = plt.imshow(X.grid, animated=True)\n",
    "            #plt.draw\n",
    "            #plt.pause(0.000\n",
    "                if temp == temp2 and i>20:\n",
    "                    #print(i)\n",
    "                    #print(temp,temp2)\n",
    "                    sett +=1\n",
    "                    n = i\n",
    "                    break\n",
    "                    \n",
    "            #collect += nsteps\n",
    "        #print('collect' + str(collect))    \n",
    "        return n\n",
    "    \n",
    "    def updatework(self, nsteps=100000):\n",
    "        lists = []\n",
    "        axis = []\n",
    "        for i in range(nsteps):\n",
    "            self.update()\n",
    "            if i%10 == 0:\n",
    "                lists.append(np.count_nonzero(self.grid))\n",
    "                axis.append(i)\n",
    "                \n",
    "        return lists, axis\n",
    "                \n",
    "            \n",
    "            \n",
    " \n",
    "                        \n",
    "                    "
   ]
  },
  {
   "cell_type": "code",
   "execution_count": 63,
   "id": "0a65f49f-bccf-4b94-bf8f-c057168da05a",
   "metadata": {},
   "outputs": [
    {
     "data": {
      "text/plain": [
       "<function matplotlib.pyplot.show(*, block=None)>"
      ]
     },
     "execution_count": 63,
     "metadata": {},
     "output_type": "execute_result"
    }
   ],
   "source": [
    "number = []\n",
    "\n",
    "for i in range(100):\n",
    "    T = Game_of_Life(50)\n",
    "    n = T.updatesystem()\n",
    "    number.append(n)\n",
    "\n",
    "plt.hist(number)\n",
    "plt.show"
   ]
  },
  {
   "cell_type": "code",
   "execution_count": 35,
   "id": "91e0b562-b5a7-40c7-aa32-fd9085119aef",
   "metadata": {},
   "outputs": [],
   "source": [
    "plt.plot(check, axis)\n",
    "plt.show()"
   ]
  },
  {
   "cell_type": "code",
   "execution_count": null,
   "id": "e7229e85-20fa-4c7d-878d-4d4da7444192",
   "metadata": {},
   "outputs": [],
   "source": [
    "X = Game_of_Life(50)\n",
    "X.grid = np.zeros((50,50))\n",
    "X.glider([10,40])\n",
    "com = X.comglider([10,40])\n",
    "X.oscillator([20,20])\n",
    "print(X.grid)\n",
    "for i in range(1000):\n",
    "    X.update()\n",
    "    plt.cla()\n",
    "    im = plt.imshow(X.grid, animated=True)\n",
    "    #plt.draw()\n",
    "    plt.pause(0.001)\n",
    "print(np.count_nonzero(X.grid))    \n",
    "        #print(self.grid)\n",
    "print(com)"
   ]
  },
  {
   "cell_type": "code",
   "execution_count": null,
   "id": "71f45c3d-8f8b-4489-9650-337ecbf75598",
   "metadata": {},
   "outputs": [],
   "source": [
    "X = Game_of_Life(50)\n",
    "X.grid = np.zeros((50,50))\n",
    "X.glider([10,40])\n",
    "com, y = X.comglider([10,40])\n",
    "X.oscillator([20,20])\n",
    "print(y)\n",
    "print(com)"
   ]
  },
  {
   "cell_type": "code",
   "execution_count": null,
   "id": "48744f7a-a8b1-4b52-b1f1-f464eaa6cd06",
   "metadata": {},
   "outputs": [],
   "source": []
  },
  {
   "cell_type": "markdown",
   "id": "63d9776b-2ac5-4694-b607-c0d61aead3eb",
   "metadata": {},
   "source": [
    "SIR"
   ]
  },
  {
   "cell_type": "code",
   "execution_count": 2,
   "id": "1a34031a-e043-4cc9-a003-7d1fbbd65806",
   "metadata": {},
   "outputs": [],
   "source": [
    "class SIR():\n",
    "    \"\"\"\n",
    "    0 = S, I = 1, R = 2\n",
    "    \"\"\"\n",
    "    def __init__(self, N, p1, p2, p3):\n",
    "        self.N = N\n",
    "        self.p1 = p1\n",
    "        self.p2 = p2\n",
    "        self.p3 = p3\n",
    "        self.grid = np.random.randint(2, size = (N,N))\n",
    "        \n",
    "    def totalcheck(self):\n",
    "        #self.grid = np.zeros((self.N, self.N))\n",
    "        val = ((np.random.random((1,2))[0])*self.N).astype(int)\n",
    "        a = np.array([self.grid[(val[0]%self.N)][(val[1]-1)%self.N], self.grid[(val[0]%self.N)][(val[1]+1)%self.N], self.grid[((val[0]-1)%self.N)][(val[1])%self.N], self.grid[((val[0]+1)%self.N)][(val[1])%self.N]])\n",
    "        checker = np.where(a==1, a, 0)\n",
    "        \n",
    "\n",
    "        print(checker)\n",
    "        \n",
    "        \n",
    "    def update(self):\n",
    "        val = ((np.random.random((1,2))[0])*self.N).astype(int)\n",
    "        if self.grid[val[0]][val[1]] == 0:\n",
    "            ran = np.random.random()\n",
    "            a = np.array([self.grid[(val[0]%self.N)][(val[1]-1)%self.N], self.grid[(val[0]%self.N)][(val[1]+1)%self.N], self.grid[((val[0]-1)%self.N)][(val[1])%self.N], self.grid[((val[0]+1)%self.N)][(val[1])%self.N]])\n",
    "            checker = np.where(a==1, a, 0)\n",
    "            tot = np.sum(checker)        \n",
    "            if ran < self.p1 and tot != 0:\n",
    "                self.grid[val[0]][val[1]] = 1\n",
    "        elif self.grid[val[0]][val[1]] == 1:\n",
    "            ran = np.random.random()\n",
    "            if ran < self.p2:\n",
    "                self.grid[val[0]][val[1]] = 2\n",
    "        elif self.grid[val[0]][val[1]] == 2:\n",
    "            ran = np.random.random()\n",
    "            if ran < self.p3:\n",
    "                self.grid[val[0]][val[1]] = 0\n",
    "                \n",
    "    def evolve(self, n):\n",
    "        fig = plt.figure()\n",
    "        im = plt.imshow(self.grid, animated=True)\n",
    "        for i in range(n):\n",
    "            f=open('pop.dat','w')\n",
    "            #legend = plt.legend()\n",
    "            for i in range(self.N):\n",
    "                for j in range(self.N):\n",
    "                    self.update()\n",
    "                    f.write('%d %d %lf\\n'%(i,j,self.grid[i,j]))\n",
    "            f.close()\n",
    "        #       show animation\n",
    "            plt.cla()\n",
    "            #plt.legend(['Susceptible', 'Infected', 'Recovered'])\n",
    "            #plt.legend()\n",
    "            im=plt.imshow(self.grid, animated=True)\n",
    "            plt.draw()\n",
    "            plt.pause(0.0001)\n",
    "        temp = np.copy(self.grid)    #return self.grid\n",
    "        return temp  \n",
    "    \n",
    "    def evolve2(self, nstep):\n",
    "        infecteds = []\n",
    "        \n",
    "        for n in range(nstep):\n",
    "            if (self.grid == 1).sum() != 0:\n",
    "                for i in range(self.N):\n",
    "                    for j in range(self.N):              \n",
    "                        self.update()\n",
    "                    \n",
    "            if n > 100:\n",
    "                infected = (self.grid == 1).sum()\n",
    "                infecteds.append(infected)\n",
    "                \n",
    "                \n",
    "        infectavg = np.mean(np.array(infecteds))/(self.N**2)\n",
    "        infectsq = np.mean(np.square(np.array(infecteds)))/(self.N**2)\n",
    "        \n",
    "        return infectavg, infectsq, infecteds\n",
    "    \n",
    "    def evolve3(self, nstep):\n",
    "        infecteds = []\n",
    "        \n",
    "        for n in range(nstep):\n",
    "            if (self.grid == 1).sum() != 0:\n",
    "                for i in range(self.N):\n",
    "                    for j in range(self.N):              \n",
    "                        self.update()\n",
    "                    \n",
    "            if n > 100:\n",
    "                infected = (self.grid == 1).sum()\n",
    "                infecteds.append(infected)\n",
    "                \n",
    "                \n",
    "        infectavg = np.array(infecteds)/(self.N**2)\n",
    "        infectsq = np.square(np.array(infecteds))/(self.N**2)\n",
    "        \n",
    "        return infectavg, infectsq\n",
    "    \n",
    "    def evolvecheck(self, nstep):\n",
    "        \n",
    "      \n",
    "        for n in range(nstep):\n",
    "            if (self.grid == 1).sum() != 0:\n",
    "                for i in range(self.N):\n",
    "                    for j in range(self.N):              \n",
    "                        self.update()\n",
    "                    \n",
    "            if n > 100:\n",
    "                infected = (self.grid == 1).sum()\n",
    "                infecteds.append(infected)\n",
    "                \n",
    "                \n",
    "        infectavg = np.mean(np.array(infecteds))/(self.N**2)\n",
    "        infectsq = np.mean(np.square(np.array(infecteds)))/(self.N**2)\n",
    "        \n",
    "        return infectavg, infectsq\n",
    "        \n",
    "                \n",
    "    def immuneevolve(self, fraction, nstep=100):\n",
    "        frac = int(fraction*(self.N**2))\n",
    "        indices = np.random.choice(self.N**2, replace=False, size=frac)\n",
    "        self.grid[np.unravel_index(indices, self.grid.shape)] = 4\n",
    "        infecteds = []\n",
    "        for n in range(nstep):\n",
    "            if (self.grid == 1).sum() != 0:\n",
    "                for i in range(self.N):\n",
    "                    for j in range(self.N):              \n",
    "                        self.update()\n",
    "                    \n",
    "            if n > 100:\n",
    "                infected = (self.grid == 1).sum()\n",
    "                infecteds.append(infected)\n",
    "                \n",
    "        infectavg = np.mean(np.array(infecteds))/(self.N**2)\n",
    "        infectsq = np.mean(np.square(np.array(infecteds)))/(self.N**2)\n",
    "        return infectavg, infectsq\n",
    "    \n",
    "    def bootstrap(data,t):\n",
    "        immvals = []\n",
    "        for i in range(500):\n",
    "            \"\"\"\n",
    "            15 here is the number of measurement\n",
    "            \"\"\"\n",
    "            sample = (len(data)*np.random.random(len(data))).astype(int)\n",
    "            #print(sample)\n",
    "            temps = []\n",
    "            vals = []\n",
    "            for j in sample:\n",
    "                #print(len(data))\n",
    "                vals.append(data[j])\n",
    "                temps.append(t[j]**2)\n",
    "            #print(np.array(vals))\n",
    "            #print(variance(np.array(vals))/(X.N*np.array(temps)**2))\n",
    "            \n",
    "            immvals.append(np.mean((variance(np.array(vals)))/((self.N**2)*np.array(temps))))\n",
    "        #print(chvals)\n",
    "        \n",
    "        error = np.sqrt(np.mean(np.square(np.array(immvals))) - np.square(np.mean(np.array(immvals))))\n",
    "        return error\n",
    "        \n",
    "    def bootcheck(data, t):\n",
    "        sample = (len(data)*np.random.random(len(data))).astype(int)\n",
    "        print(sample)\n"
   ]
  },
  {
   "cell_type": "code",
   "execution_count": null,
   "id": "3b5b8b52-41bb-4079-9167-87b2aa5be65d",
   "metadata": {},
   "outputs": [],
   "source": [
    "S = SIR(50,0.8,0.1,0.1)\n",
    "#print(S.grid[48:,48:])\n",
    "#%matplotlib tk\n",
    "paraminf, paraminfsq = S.evolve3(1000)\n",
    "plt.plot(np.arange(899), paraminf)\n",
    "plt.show()\n",
    "#S.totalcheck()\n",
    "#S.immuneevolve(0.8)"
   ]
  },
  {
   "cell_type": "code",
   "execution_count": 3,
   "id": "d171968d-85eb-4400-801e-173598851067",
   "metadata": {},
   "outputs": [
    {
     "ename": "KeyboardInterrupt",
     "evalue": "",
     "output_type": "error",
     "traceback": [
      "\u001b[0;31m---------------------------------------------------------------------------\u001b[0m",
      "\u001b[0;31mKeyboardInterrupt\u001b[0m                         Traceback (most recent call last)",
      "\u001b[0;32m/tmp/ipykernel_196269/2508476054.py\u001b[0m in \u001b[0;36m<module>\u001b[0;34m\u001b[0m\n\u001b[1;32m      1\u001b[0m \u001b[0mget_ipython\u001b[0m\u001b[0;34m(\u001b[0m\u001b[0;34m)\u001b[0m\u001b[0;34m.\u001b[0m\u001b[0mrun_line_magic\u001b[0m\u001b[0;34m(\u001b[0m\u001b[0;34m'matplotlib'\u001b[0m\u001b[0;34m,\u001b[0m \u001b[0;34m'tk'\u001b[0m\u001b[0;34m)\u001b[0m\u001b[0;34m\u001b[0m\u001b[0;34m\u001b[0m\u001b[0m\n\u001b[1;32m      2\u001b[0m \u001b[0mcheck\u001b[0m \u001b[0;34m=\u001b[0m \u001b[0mSIR\u001b[0m\u001b[0;34m(\u001b[0m\u001b[0;36m100\u001b[0m\u001b[0;34m,\u001b[0m \u001b[0;36m0.8\u001b[0m\u001b[0;34m,\u001b[0m \u001b[0;36m0.1\u001b[0m\u001b[0;34m,\u001b[0m \u001b[0;36m0.01\u001b[0m\u001b[0;34m)\u001b[0m\u001b[0;34m\u001b[0m\u001b[0;34m\u001b[0m\u001b[0m\n\u001b[0;32m----> 3\u001b[0;31m \u001b[0mcheck\u001b[0m\u001b[0;34m.\u001b[0m\u001b[0mevolve\u001b[0m\u001b[0;34m(\u001b[0m\u001b[0;36m500\u001b[0m\u001b[0;34m)\u001b[0m\u001b[0;34m\u001b[0m\u001b[0;34m\u001b[0m\u001b[0m\n\u001b[0m",
      "\u001b[0;32m/tmp/ipykernel_196269/1382215784.py\u001b[0m in \u001b[0;36mevolve\u001b[0;34m(self, n)\u001b[0m\n\u001b[1;32m     55\u001b[0m             \u001b[0mim\u001b[0m\u001b[0;34m=\u001b[0m\u001b[0mplt\u001b[0m\u001b[0;34m.\u001b[0m\u001b[0mimshow\u001b[0m\u001b[0;34m(\u001b[0m\u001b[0mself\u001b[0m\u001b[0;34m.\u001b[0m\u001b[0mgrid\u001b[0m\u001b[0;34m,\u001b[0m \u001b[0manimated\u001b[0m\u001b[0;34m=\u001b[0m\u001b[0;32mTrue\u001b[0m\u001b[0;34m)\u001b[0m\u001b[0;34m\u001b[0m\u001b[0;34m\u001b[0m\u001b[0m\n\u001b[1;32m     56\u001b[0m             \u001b[0mplt\u001b[0m\u001b[0;34m.\u001b[0m\u001b[0mdraw\u001b[0m\u001b[0;34m(\u001b[0m\u001b[0;34m)\u001b[0m\u001b[0;34m\u001b[0m\u001b[0;34m\u001b[0m\u001b[0m\n\u001b[0;32m---> 57\u001b[0;31m             \u001b[0mplt\u001b[0m\u001b[0;34m.\u001b[0m\u001b[0mpause\u001b[0m\u001b[0;34m(\u001b[0m\u001b[0;36m0.0001\u001b[0m\u001b[0;34m)\u001b[0m\u001b[0;34m\u001b[0m\u001b[0;34m\u001b[0m\u001b[0m\n\u001b[0m\u001b[1;32m     58\u001b[0m         \u001b[0mtemp\u001b[0m \u001b[0;34m=\u001b[0m \u001b[0mnp\u001b[0m\u001b[0;34m.\u001b[0m\u001b[0mcopy\u001b[0m\u001b[0;34m(\u001b[0m\u001b[0mself\u001b[0m\u001b[0;34m.\u001b[0m\u001b[0mgrid\u001b[0m\u001b[0;34m)\u001b[0m    \u001b[0;31m#return self.grid\u001b[0m\u001b[0;34m\u001b[0m\u001b[0;34m\u001b[0m\u001b[0m\n\u001b[1;32m     59\u001b[0m         \u001b[0;32mreturn\u001b[0m \u001b[0mtemp\u001b[0m\u001b[0;34m\u001b[0m\u001b[0;34m\u001b[0m\u001b[0m\n",
      "\u001b[0;32m~/anaconda3/lib/python3.9/site-packages/matplotlib/pyplot.py\u001b[0m in \u001b[0;36mpause\u001b[0;34m(interval)\u001b[0m\n\u001b[1;32m    556\u001b[0m             \u001b[0mcanvas\u001b[0m\u001b[0;34m.\u001b[0m\u001b[0mdraw_idle\u001b[0m\u001b[0;34m(\u001b[0m\u001b[0;34m)\u001b[0m\u001b[0;34m\u001b[0m\u001b[0;34m\u001b[0m\u001b[0m\n\u001b[1;32m    557\u001b[0m         \u001b[0mshow\u001b[0m\u001b[0;34m(\u001b[0m\u001b[0mblock\u001b[0m\u001b[0;34m=\u001b[0m\u001b[0;32mFalse\u001b[0m\u001b[0;34m)\u001b[0m\u001b[0;34m\u001b[0m\u001b[0;34m\u001b[0m\u001b[0m\n\u001b[0;32m--> 558\u001b[0;31m         \u001b[0mcanvas\u001b[0m\u001b[0;34m.\u001b[0m\u001b[0mstart_event_loop\u001b[0m\u001b[0;34m(\u001b[0m\u001b[0minterval\u001b[0m\u001b[0;34m)\u001b[0m\u001b[0;34m\u001b[0m\u001b[0;34m\u001b[0m\u001b[0m\n\u001b[0m\u001b[1;32m    559\u001b[0m     \u001b[0;32melse\u001b[0m\u001b[0;34m:\u001b[0m\u001b[0;34m\u001b[0m\u001b[0;34m\u001b[0m\u001b[0m\n\u001b[1;32m    560\u001b[0m         \u001b[0mtime\u001b[0m\u001b[0;34m.\u001b[0m\u001b[0msleep\u001b[0m\u001b[0;34m(\u001b[0m\u001b[0minterval\u001b[0m\u001b[0;34m)\u001b[0m\u001b[0;34m\u001b[0m\u001b[0;34m\u001b[0m\u001b[0m\n",
      "\u001b[0;32m~/anaconda3/lib/python3.9/site-packages/matplotlib/backends/_backend_tk.py\u001b[0m in \u001b[0;36mstart_event_loop\u001b[0;34m(self, timeout)\u001b[0m\n\u001b[1;32m    383\u001b[0m                 self._event_loop_id = self._tkcanvas.after_idle(\n\u001b[1;32m    384\u001b[0m                     self.stop_event_loop)\n\u001b[0;32m--> 385\u001b[0;31m         \u001b[0mself\u001b[0m\u001b[0;34m.\u001b[0m\u001b[0m_master\u001b[0m\u001b[0;34m.\u001b[0m\u001b[0mmainloop\u001b[0m\u001b[0;34m(\u001b[0m\u001b[0;34m)\u001b[0m\u001b[0;34m\u001b[0m\u001b[0;34m\u001b[0m\u001b[0m\n\u001b[0m\u001b[1;32m    386\u001b[0m \u001b[0;34m\u001b[0m\u001b[0m\n\u001b[1;32m    387\u001b[0m     \u001b[0;32mdef\u001b[0m \u001b[0mstop_event_loop\u001b[0m\u001b[0;34m(\u001b[0m\u001b[0mself\u001b[0m\u001b[0;34m)\u001b[0m\u001b[0;34m:\u001b[0m\u001b[0;34m\u001b[0m\u001b[0;34m\u001b[0m\u001b[0m\n",
      "\u001b[0;32m~/anaconda3/lib/python3.9/tkinter/__init__.py\u001b[0m in \u001b[0;36mmainloop\u001b[0;34m(self, n)\u001b[0m\n\u001b[1;32m   1427\u001b[0m     \u001b[0;32mdef\u001b[0m \u001b[0mmainloop\u001b[0m\u001b[0;34m(\u001b[0m\u001b[0mself\u001b[0m\u001b[0;34m,\u001b[0m \u001b[0mn\u001b[0m\u001b[0;34m=\u001b[0m\u001b[0;36m0\u001b[0m\u001b[0;34m)\u001b[0m\u001b[0;34m:\u001b[0m\u001b[0;34m\u001b[0m\u001b[0;34m\u001b[0m\u001b[0m\n\u001b[1;32m   1428\u001b[0m         \u001b[0;34m\"\"\"Call the mainloop of Tk.\"\"\"\u001b[0m\u001b[0;34m\u001b[0m\u001b[0;34m\u001b[0m\u001b[0m\n\u001b[0;32m-> 1429\u001b[0;31m         \u001b[0mself\u001b[0m\u001b[0;34m.\u001b[0m\u001b[0mtk\u001b[0m\u001b[0;34m.\u001b[0m\u001b[0mmainloop\u001b[0m\u001b[0;34m(\u001b[0m\u001b[0mn\u001b[0m\u001b[0;34m)\u001b[0m\u001b[0;34m\u001b[0m\u001b[0;34m\u001b[0m\u001b[0m\n\u001b[0m\u001b[1;32m   1430\u001b[0m \u001b[0;34m\u001b[0m\u001b[0m\n\u001b[1;32m   1431\u001b[0m     \u001b[0;32mdef\u001b[0m \u001b[0mquit\u001b[0m\u001b[0;34m(\u001b[0m\u001b[0mself\u001b[0m\u001b[0;34m)\u001b[0m\u001b[0;34m:\u001b[0m\u001b[0;34m\u001b[0m\u001b[0;34m\u001b[0m\u001b[0m\n",
      "\u001b[0;31mKeyboardInterrupt\u001b[0m: "
     ]
    }
   ],
   "source": [
    "%matplotlib tk\n",
    "check = SIR(100, 0.8, 0.1, 0.01)\n",
    "check.evolve(500)"
   ]
  },
  {
   "cell_type": "code",
   "execution_count": 3,
   "id": "994ad117-5637-40b1-b51e-629eb755ecb9",
   "metadata": {},
   "outputs": [
    {
     "name": "stdout",
     "output_type": "stream",
     "text": [
      "0.05\n",
      "0.1\n",
      "0.15\n",
      "0.2\n",
      "0.25\n",
      "0.3\n",
      "0.35\n",
      "0.39999999999999997\n",
      "0.44999999999999996\n",
      "0.49999999999999994\n",
      "0.5499999999999999\n",
      "0.6\n",
      "0.65\n",
      "0.7\n",
      "0.75\n",
      "0.7999999999999999\n",
      "0.85\n",
      "0.9\n",
      "0.95\n",
      "1.0\n"
     ]
    }
   ],
   "source": [
    "ranges = np.linspace(0.05,1,20)\n",
    "p1 = []\n",
    "p3 = []\n",
    "Infavg = []\n",
    "Infecteds = []\n",
    "for i in ranges:\n",
    "    smallinf = []\n",
    "    smallinfsq = []\n",
    "    for j in ranges:\n",
    "        #print(i,j)\n",
    "        S = SIR(50, i, 0.5, j)\n",
    "        I, infecteds = S.evolve2(1000)\n",
    "        smallinf.append(I)\n",
    "        smallinfsq.append(infecteds)\n",
    "        #print(smallinf)\n",
    "    p3.append(i)\n",
    "    Infavg.append(smallinf)\n",
    "    Infecteds.append(smallinfsq)\n",
    "    p1.append(i)\n",
    "    print(i)\n",
    "        \n"
   ]
  },
  {
   "cell_type": "code",
   "execution_count": 4,
   "id": "362ae1bb-4120-498a-aa2c-876d620f23be",
   "metadata": {},
   "outputs": [],
   "source": [
    "with open(\"infavg.txt\", \"ab\") as f:\n",
    "    np.savetxt(f, Infavg)\n",
    "    \n",
    "with open(\"test.txt\", \"ab\") as f1:\n",
    "    np.savetxt(f1, Infecteds)"
   ]
  },
  {
   "cell_type": "code",
   "execution_count": 125,
   "id": "91c28e1a-3ee2-4f6e-b6c0-6edc4b5bd190",
   "metadata": {},
   "outputs": [],
   "source": [
    "testvalue = np.array(Infavg)*2500\n",
    "testvaluesquare = np.array(Infecteds)*2500\n",
    "testvariance = ((testvaluesquare) - np.square(testvalue))/2500\n"
   ]
  },
  {
   "cell_type": "code",
   "execution_count": 36,
   "id": "bf004769-645c-46be-b3fd-e67f09a324da",
   "metadata": {},
   "outputs": [],
   "source": [
    "fracrange = np.linspace(0.05, 1, 20)\n",
    "Infectim = []\n",
    "Infectimsq = []\n",
    "for i in fracrange:\n",
    "    Im = SIR(50, 0.5, 0.5, 0.5)\n",
    "    imavg, imavgsq = Im.immuneevolve(i,1000)\n",
    "    Infectim.append(imavg)\n",
    "    Infectimsq.append(imavgsq)\n",
    "    \n",
    "with open(\"imminfavg.txt\", \"ab\") as f2:\n",
    "    np.savetxt(f2, Infectim)\n",
    "    \n",
    "with open(\"immsq.txt\", \"ab\") as f3:\n",
    "    np.savetxt(f3, Infectimsq)    \n",
    "        \n",
    "        "
   ]
  },
  {
   "cell_type": "code",
   "execution_count": 37,
   "id": "3f2df544-c146-4cce-9073-4789442d6f8d",
   "metadata": {},
   "outputs": [
    {
     "name": "stdout",
     "output_type": "stream",
     "text": [
      "[6.01070165e-04 9.78935194e-04 1.30424579e-03 3.07599977e-04\n",
      " 4.10727194e-03 2.94812302e-04 1.20047957e-04 1.27348922e-06\n",
      " 1.11430306e-06 0.00000000e+00 0.00000000e+00 0.00000000e+00\n",
      " 0.00000000e+00 0.00000000e+00 0.00000000e+00 0.00000000e+00\n",
      " 0.00000000e+00 0.00000000e+00 0.00000000e+00 0.00000000e+00]\n"
     ]
    }
   ],
   "source": [
    "collection =  []\n",
    "for n in range(5):\n",
    "    collecty = []\n",
    "    for i in fracrange:\n",
    "        errmod = SIR(50, 0.5, 0.5, 0.5)\n",
    "        erravg, erravgsq = errmod.immuneevolve(i, 1000)\n",
    "        collecty.append(erravg)\n",
    "    collection.append(collecty)    \n",
    "errors = np.std(np.array(collection), axis=0)/(np.sqrt(5))\n",
    "print(errors)\n",
    "        "
   ]
  },
  {
   "cell_type": "code",
   "execution_count": 172,
   "id": "0c452436-5594-4d0b-a724-6563e9fa7e7f",
   "metadata": {},
   "outputs": [
    {
     "name": "stdout",
     "output_type": "stream",
     "text": [
      "[2.95253382e-04 3.65376716e-04 4.98750340e-04 5.49832921e-04\n",
      " 2.49947067e-04 1.45336826e-04 1.72688546e-04 2.67512168e-04\n",
      " 1.54979798e-04 2.62096748e-04 2.35979813e-04 7.35850793e-05\n",
      " 3.51881520e-04 1.13036740e-04 1.73752478e-04 1.65889662e-04\n",
      " 1.22059492e-04 1.46899474e-04 2.56324926e-05 0.00000000e+00]\n"
     ]
    }
   ],
   "source": []
  },
  {
   "cell_type": "code",
   "execution_count": 38,
   "id": "21e13011-588f-4f20-ae88-ce6d29cefc88",
   "metadata": {},
   "outputs": [
    {
     "data": {
      "image/png": "[encoded data removed]",
      "text/plain": [
       "<Figure size 432x288 with 1 Axes>"
      ]
     },
     "metadata": {
      "needs_background": "light"
     },
     "output_type": "display_data"
    }
   ],
   "source": [
    "%matplotlib inline\n",
    "plt.plot(fracrange, Infectim)\n",
    "plt.errorbar(fracrange, Infectim, xerr=None, yerr=errors)\n",
    "\n",
    "plt.show()\n",
    "#%matplotlib tk"
   ]
  },
  {
   "cell_type": "code",
   "execution_count": 39,
   "id": "008efc96-f393-4f4e-9652-d1dd377667c8",
   "metadata": {},
   "outputs": [
    {
     "data": {
      "image/png": "[encoded data removed]",
      "text/plain": [
       "<Figure size 432x288 with 1 Axes>"
      ]
     },
     "metadata": {
      "needs_background": "light"
     },
     "output_type": "display_data"
    }
   ],
   "source": [
    "immvariance = np.array(Infectimsq) - np.square(np.array(Infectim))*(S.N**2)\n",
    "plt.plot(fracrange, immvariance)\n",
    "plt.show()\n"
   ]
  },
  {
   "cell_type": "code",
   "execution_count": 5,
   "id": "9872f418-34e4-4428-a19e-48be0eb4e1ea",
   "metadata": {},
   "outputs": [
    {
     "data": {
      "text/plain": [
       "<function matplotlib.pyplot.show(close=None, block=None)>"
      ]
     },
     "execution_count": 5,
     "metadata": {},
     "output_type": "execute_result"
    },
    {
     "data": {
      "image/png": "[encoded data removed]",
      "text/plain": [
       "<Figure size 432x288 with 2 Axes>"
      ]
     },
     "metadata": {
      "needs_background": "light"
     },
     "output_type": "display_data"
    }
   ],
   "source": [
    "X,Y = np.meshgrid(p1, p1)\n",
    "%matplotlib inline\n",
    "plt.contourf(X,Y, Infavg) \n",
    "plt.colorbar()\n",
    "plt.show"
   ]
  },
  {
   "cell_type": "code",
   "execution_count": 6,
   "id": "7619b9cd-2f90-4c7e-a33b-b3b91024abfa",
   "metadata": {},
   "outputs": [
    {
     "data": {
      "image/png": "[encoded data removed]",
      "text/plain": [
       "<Figure size 432x288 with 2 Axes>"
      ]
     },
     "metadata": {
      "needs_background": "light"
     },
     "output_type": "display_data"
    }
   ],
   "source": [
    "variance = np.array(Infecteds) - np.square(np.array(Infavg))*(S.N**2)\n",
    "plt.contourf(X,Y, variance) \n",
    "plt.colorbar()\n",
    "plt.show()"
   ]
  },
  {
   "cell_type": "code",
   "execution_count": 126,
   "id": "24fe76fe-9115-465e-bcdf-0cf03ec23042",
   "metadata": {},
   "outputs": [
    {
     "data": {
      "image/png": "[encoded data removed]",
      "text/plain": [
       "<Figure size 432x288 with 2 Axes>"
      ]
     },
     "metadata": {
      "needs_background": "light"
     },
     "output_type": "display_data"
    }
   ],
   "source": [
    "plt.contourf(X,Y, testvariance)\n",
    "plt.colorbar()\n",
    "plt.show()"
   ]
  },
  {
   "cell_type": "code",
   "execution_count": 20,
   "id": "c5a9a445-0b95-42d3-b0d3-b114c954263f",
   "metadata": {},
   "outputs": [
    {
     "name": "stdout",
     "output_type": "stream",
     "text": [
      "0.2\n",
      "0.26\n",
      "0.32\n",
      "0.38\n",
      "0.44\n",
      "0.5\n"
     ]
    }
   ],
   "source": [
    "p1ranges = np.linspace(0.2,0.5,6)\n",
    "p1again = []\n",
    "Infavgcut = []\n",
    "Infectedscut = []\n",
    "Dat = []\n",
    "for i in p1ranges:\n",
    "\n",
    "    S = SIR(50, i, 0.5, 0.5)\n",
    "    Icut, infectedscut, dat = S.evolve2(10000)\n",
    "    Infavgcut.append(Icut)\n",
    "    Infectedscut.append(infectedscut)\n",
    "    Dat.append(dat)\n",
    "    p1.append(i)\n",
    "    print(i)\n",
    "        \n",
    "        "
   ]
  },
  {
   "cell_type": "code",
   "execution_count": 72,
   "id": "7fae92d4-e5fd-4484-bee5-5c4f15594ba3",
   "metadata": {},
   "outputs": [
    {
     "name": "stdout",
     "output_type": "stream",
     "text": [
      "6\n"
     ]
    },
    {
     "data": {
      "image/png": "[encoded data removed]",
      "text/plain": [
       "<Figure size 432x288 with 1 Axes>"
      ]
     },
     "metadata": {
      "needs_background": "light"
     },
     "output_type": "display_data"
    }
   ],
   "source": [
    "print(len(Dat))\n",
    "variancecut = np.array(Infectedscut) - np.square(np.array(Infavgcut))*(S.N**2)\n",
    "plt.plot(p1ranges, variancecut)\n",
    "plt.errorbar(p1ranges, variancecut, xerr=None, yerr = truerr)\n",
    "plt.show()"
   ]
  },
  {
   "cell_type": "code",
   "execution_count": 71,
   "id": "5e7df438-1357-407b-8794-634e01b0d810",
   "metadata": {},
   "outputs": [
    {
     "name": "stdout",
     "output_type": "stream",
     "text": [
      "[0.00000000e+00 1.32429530e-05 1.10920487e-02 7.79804095e-03\n",
      " 6.23963266e-03 6.29704131e-03]\n"
     ]
    }
   ],
   "source": [
    "toterr = []\n",
    "for n in range(1000):    \n",
    "    errcut = []\n",
    "    for i in range(len(Dat)):\n",
    "    #print(Dat[i]) \n",
    "        sample = (len(Dat[i])*np.random.random(len(Dat[i]))).astype(int)\n",
    "        sampleset = []\n",
    "        for el in sample:\n",
    "            sampleset.append(Dat[i][el])\n",
    "        errvary = ((np.mean(np.square(np.array(sampleset)))) - np.square(np.mean(np.array(sampleset))))/S.N**2\n",
    "        errcut.append(errvary)\n",
    "    \n",
    "    #ex = np.mean(np.square(errcut)) - np.square(np.mean(errcut))\n",
    "    #print(ex)                                            \n",
    "    toterr.append(errcut)\n",
    "truerr = np.sqrt(np.mean(np.square(np.array(toterr)), axis=0) - np.square(np.mean(np.array(toterr), axis=0)))\n",
    "print(truerr)\n",
    "#print(errcut)"
   ]
  },
  {
   "cell_type": "code",
   "execution_count": null,
   "id": "f01eb465-ab13-42d8-8dde-c102c563c767",
   "metadata": {},
   "outputs": [],
   "source": []
  }
 ],
 "metadata": {
  "kernelspec": {
   "display_name": "Python 3 (ipykernel)",
   "language": "python",
   "name": "python3"
  },
  "language_info": {
   "codemirror_mode": {
    "name": "ipython",
    "version": 3
   },
   "file_extension": ".py",
   "mimetype": "text/x-python",
   "name": "python",
   "nbconvert_exporter": "python",
   "pygments_lexer": "ipython3",
   "version": "3.9.7"
  }
 },
 "nbformat": 4,
 "nbformat_minor": 5
}
